{
 "cells": [
  {
   "cell_type": "markdown",
   "metadata": {},
   "source": [
    "# Анализ данных зарплате, работе и гендере в США "
   ]
  },
  {
   "cell_type": "markdown",
   "metadata": {},
   "source": [
    "импортируем необходимые библиотеки"
   ]
  },
  {
   "cell_type": "code",
   "execution_count": 1,
   "metadata": {},
   "outputs": [],
   "source": [
    "import pandas as pd \n",
    "import numpy as np  \n",
    "import seaborn as sns\n"
   ]
  },
  {
   "cell_type": "markdown",
   "metadata": {},
   "source": [
    "### а что в табличке?\n",
    "Читаем наши данные, чистим от na\n",
    "Как видим, в таблице 7 столбцов: название профессии, общее количество работников, средняя недельная з.п. среди всех работников, количество мужчин и женщин работников соотвественно и их средняя з.п.\\нед. "
   ]
  },
  {
   "cell_type": "code",
   "execution_count": 3,
   "metadata": {},
   "outputs": [
    {
     "data": {
      "text/html": [
       "<div>\n",
       "<style scoped>\n",
       "    .dataframe tbody tr th:only-of-type {\n",
       "        vertical-align: middle;\n",
       "    }\n",
       "\n",
       "    .dataframe tbody tr th {\n",
       "        vertical-align: top;\n",
       "    }\n",
       "\n",
       "    .dataframe thead th {\n",
       "        text-align: right;\n",
       "    }\n",
       "</style>\n",
       "<table border=\"1\" class=\"dataframe\">\n",
       "  <thead>\n",
       "    <tr style=\"text-align: right;\">\n",
       "      <th></th>\n",
       "      <th>Occupation</th>\n",
       "      <th>All_workers</th>\n",
       "      <th>All_weekly</th>\n",
       "      <th>M_workers</th>\n",
       "      <th>M_weekly</th>\n",
       "      <th>F_workers</th>\n",
       "      <th>F_weekly</th>\n",
       "    </tr>\n",
       "  </thead>\n",
       "  <tbody>\n",
       "    <tr>\n",
       "      <th>0</th>\n",
       "      <td>ALL OCCUPATIONS</td>\n",
       "      <td>109080</td>\n",
       "      <td>809</td>\n",
       "      <td>60746</td>\n",
       "      <td>895</td>\n",
       "      <td>48334</td>\n",
       "      <td>726</td>\n",
       "    </tr>\n",
       "    <tr>\n",
       "      <th>1</th>\n",
       "      <td>MANAGEMENT</td>\n",
       "      <td>12480</td>\n",
       "      <td>1351</td>\n",
       "      <td>7332</td>\n",
       "      <td>1486</td>\n",
       "      <td>5147</td>\n",
       "      <td>1139</td>\n",
       "    </tr>\n",
       "    <tr>\n",
       "      <th>2</th>\n",
       "      <td>Chief executives</td>\n",
       "      <td>1046</td>\n",
       "      <td>2041</td>\n",
       "      <td>763</td>\n",
       "      <td>2251</td>\n",
       "      <td>283</td>\n",
       "      <td>1836</td>\n",
       "    </tr>\n",
       "    <tr>\n",
       "      <th>3</th>\n",
       "      <td>General and operations managers</td>\n",
       "      <td>823</td>\n",
       "      <td>1260</td>\n",
       "      <td>621</td>\n",
       "      <td>1347</td>\n",
       "      <td>202</td>\n",
       "      <td>1002</td>\n",
       "    </tr>\n",
       "    <tr>\n",
       "      <th>6</th>\n",
       "      <td>Marketing and sales managers</td>\n",
       "      <td>948</td>\n",
       "      <td>1462</td>\n",
       "      <td>570</td>\n",
       "      <td>1603</td>\n",
       "      <td>378</td>\n",
       "      <td>1258</td>\n",
       "    </tr>\n",
       "  </tbody>\n",
       "</table>\n",
       "</div>"
      ],
      "text/plain": [
       "                        Occupation  All_workers All_weekly  M_workers  \\\n",
       "0                  ALL OCCUPATIONS       109080        809      60746   \n",
       "1                       MANAGEMENT        12480       1351       7332   \n",
       "2                 Chief executives         1046       2041        763   \n",
       "3  General and operations managers          823       1260        621   \n",
       "6     Marketing and sales managers          948       1462        570   \n",
       "\n",
       "  M_weekly  F_workers F_weekly  \n",
       "0      895      48334      726  \n",
       "1     1486       5147     1139  \n",
       "2     2251        283     1836  \n",
       "3     1347        202     1002  \n",
       "6     1603        378     1258  "
      ]
     },
     "execution_count": 3,
     "metadata": {},
     "output_type": "execute_result"
    }
   ],
   "source": [
    "data_folder = 'data/'  # Папка с данными \n",
    "dat = pd.read_csv(data_folder + 'datasets_187_404_inc_occ_gender.csv')\n",
    "dat=dat.replace('Na',pd.NaT,) #иначе dropna() работать не будет, т.к. none в таблице обозначили текстом\n",
    "dat=dat.dropna() \n",
    "dat.head()\n"
   ]
  },
  {
   "cell_type": "markdown",
   "metadata": {},
   "source": [
    "## занимательная статистика\n",
    "Попробуем выяснить, какие профессии самые оплачиваемые, и какому из полов платят больше"
   ]
  },
  {
   "cell_type": "code",
   "execution_count": 5,
   "metadata": {},
   "outputs": [
    {
     "data": {
      "image/png": "[encoded data removed]",
      "text/plain": [
       "<Figure size 432x288 with 1 Axes>"
      ]
     },
     "metadata": {
      "needs_background": "light"
     },
     "output_type": "display_data"
    }
   ],
   "source": [
    "sns.set_palette(\"Set3\") #чисто чтобы не так грустно было\n",
    "dat['All_weekly']=dat['All_weekly'].astype(int) #иначе глупый панадас не понимает, что это числа и сортирует некорректно\n",
    "result = dat.sort_values(by=['All_weekly'], ascending=False) #сортируем график по колонке с общей з.п./нед.\n",
    "\n",
    "ax = sns.barplot(x='All_weekly', y='Occupation', data=result.head())\n",
    "sns.despine(left=True, bottom=True)\n"
   ]
  },
  {
   "cell_type": "markdown",
   "metadata": {},
   "source": [
    "Как мы видим, самым оплачиваемым оказался труд: **начальников, фармацевтов, юристов, врачей и хирургов а так же сисадминов(по какой-то причине)** . Крайне занимательно."
   ]
  },
  {
   "cell_type": "code",
   "execution_count": 9,
   "metadata": {},
   "outputs": [],
   "source": [
    "all_m_inc=np.sum([int(i) for i in dat['M_weekly']]) #доход мужчин всех проффессий\n",
    "all_f_inc=np.sum([int(i) for i in dat['F_weekly']]) #доход женщин всех проффессий\n"
   ]
  },
  {
   "cell_type": "markdown",
   "metadata": {},
   "source": [
    "Считаем общий доход мужчин и женщин всех профессий, смотрим, кто богаче..."
   ]
  },
  {
   "cell_type": "code",
   "execution_count": 11,
   "metadata": {},
   "outputs": [
    {
     "data": {
      "image/png": "[encoded data removed]",
      "text/plain": [
       "<Figure size 432x288 with 1 Axes>"
      ]
     },
     "metadata": {
      "needs_background": "light"
     },
     "output_type": "display_data"
    }
   ],
   "source": [
    "x=np.array(['M_weekly','F_weekly'])\n",
    "y=np.array([all_m_inc,all_f_inc])\n",
    "ax = sns.barplot(x=x, y=y)"
   ]
  },
  {
   "cell_type": "markdown",
   "metadata": {},
   "source": [
    "Как я и предполагал... США растлена токсичными соками патриархата(не удивительно, с таким-то президентом). Из графика ясно, что мужчины в среднем зарабатывают гораздо больше"
   ]
  },
  {
   "cell_type": "markdown",
   "metadata": {},
   "source": [
    "## Попробуем найти закономерности\n",
    "### пол по зарплате\n",
    "Для начала попрую посмотреть, можем ли мы предсказать по одной лишь зарплате человека его пол. Скорее всего, не можем, вот и посмотрим.\n",
    "Для этого составлю список, где сначала идет столько 0, сколько работ, где заняты мужчины, а затем столько едениц, сколько работ, где заняты женщины(на самом деле, полсе удаления none это одинаковые числа). Это список лейблов, которое являются нашей целью.\n",
    "В качестве параметра возьму список, склеенный из всех зарплат мужчин и женщин."
   ]
  },
  {
   "cell_type": "code",
   "execution_count": 34,
   "metadata": {},
   "outputs": [],
   "source": [
    "m=list('0'*len(dat['M_weekly']))  \n",
    "f=list('1'*len(dat['F_weekly']))\n",
    "m,f=[int(i) for i in m],[int(i) for i in f]\n",
    "m_inc=list(dat['M_weekly'].astype(int))\n",
    "f_inc=list(dat['F_weekly'].astype(int))\n",
    "\n",
    "target=np.array(m+f)\n",
    "train=np.array(m_inc+f_inc).reshape(-1, 1)"
   ]
  },
  {
   "cell_type": "markdown",
   "metadata": {},
   "source": [
    "Теперь я использую **train_test_split**, чтобы разделить выборку на тестовые и тренировочные подвыборки в пропорции 1 к 4"
   ]
  },
  {
   "cell_type": "code",
   "execution_count": 58,
   "metadata": {},
   "outputs": [],
   "source": [
    "from sklearn.model_selection import train_test_split\n",
    "tr_train, tr_test, ta_train, ta_test = train_test_split(train, target, test_size=0.25)"
   ]
  },
  {
   "cell_type": "markdown",
   "metadata": {},
   "source": [
    "нормализую данные, чтобы все было красиво "
   ]
  },
  {
   "cell_type": "code",
   "execution_count": 59,
   "metadata": {},
   "outputs": [],
   "source": [
    "from sklearn import preprocessing\n",
    "\n",
    "tr_train,tr_test = preprocessing.normalize(tr_train),preprocessing.normalize(tr_test)\n"
   ]
  },
  {
   "cell_type": "markdown",
   "metadata": {},
   "source": [
    "Попробую создать 4 модели на основе 4ёх основных классификаторов, чтобы потом посмотреть, какой из них будет работать лучше. Конечно существуют штуки вроде RandomizedSearchCV, позволяющие перебирать параметры моделей и выявлять лучшие, но в данном случае, мне кажется, я и руками неплохо подобрал, да и сложно это..."
   ]
  },
  {
   "cell_type": "markdown",
   "metadata": {},
   "source": [
    "Импортирую модули классификаторов"
   ]
  },
  {
   "cell_type": "code",
   "execution_count": 20,
   "metadata": {},
   "outputs": [],
   "source": [
    "from sklearn import svm\n",
    "from sklearn.neighbors import KNeighborsClassifier\n",
    "from sklearn.ensemble import RandomForestClassifier\n",
    "from sklearn.linear_model import LogisticRegression"
   ]
  },
  {
   "cell_type": "code",
   "execution_count": 63,
   "metadata": {},
   "outputs": [],
   "source": [
    "model_rfc = RandomForestClassifier(n_estimators = 70) #количество деревьев\n",
    "model_knc = KNeighborsClassifier(n_neighbors = 18) #количество соседей\n",
    "model_lr = LogisticRegression(penalty='l1', tol=0.01, solver='liblinear') \n",
    "model_svc = svm.SVC(kernel='linear') #с linear ядром в моем случае работает лучше, чем с стандартным rbf или poly, гамму и c не трогал, т.к. при изменении работает только хуже\n"
   ]
  },
  {
   "cell_type": "markdown",
   "metadata": {},
   "source": [
    "Теперь я хочу использовать **cross_val_score()** чтобы посичтать счета точности моих моделей на моих данных при помощи 5-кросс-валидации  "
   ]
  },
  {
   "cell_type": "markdown",
   "metadata": {},
   "source": [
    "импортирую функцию "
   ]
  },
  {
   "cell_type": "code",
   "execution_count": 27,
   "metadata": {},
   "outputs": [],
   "source": [
    "from sklearn.model_selection import cross_val_score"
   ]
  },
  {
   "cell_type": "markdown",
   "metadata": {},
   "source": [
    "Задаю колличетсво разбиений 5, чтобы валидация была реально 5-перекресной, среди каждого из считов беру самое большое значение и сохраняю его в словать **best_sc**"
   ]
  },
  {
   "cell_type": "code",
   "execution_count": 64,
   "metadata": {},
   "outputs": [],
   "source": [
    "kfold = 5\n",
    "best_sc = {} \n",
    "scores1 = cross_val_score(model_rfc, train, target, cv = kfold)\n",
    "best_sc['RandomForestClassifier'] = scores1.mean()\n",
    "scores2 = cross_val_score(model_knc, train, target, cv = kfold)\n",
    "best_sc['KNeighborsClassifier'] = scores2.mean()\n",
    "scores3 = cross_val_score(model_lr, train, target, cv = kfold)\n",
    "best_sc['LogisticRegression'] = scores3.mean()\n",
    "scores4 = cross_val_score(model_svc, train, target, cv = kfold)\n",
    "best_sc['SVC'] = scores4.mean()"
   ]
  },
  {
   "cell_type": "markdown",
   "metadata": {},
   "source": [
    "Посмотрим результаты на графике "
   ]
  },
  {
   "cell_type": "code",
   "execution_count": 32,
   "metadata": {},
   "outputs": [
    {
     "data": {
      "image/png": "[encoded data removed]",
      "text/plain": [
       "<Figure size 432x288 with 1 Axes>"
      ]
     },
     "metadata": {
      "needs_background": "light"
     },
     "output_type": "display_data"
    }
   ],
   "source": [
    "ax3=sns.barplot(x=list(best_sc.keys()), y=list(best_sc.values()))\n",
    "for i in ax3.get_xticklabels():\n",
    "    i.set_rotation(90)"
   ]
  },
  {
   "cell_type": "markdown",
   "metadata": {},
   "source": [
    "В нашем случае молодцом оказалась модель на основе метода опроных векторов, посмотрю, какую точность мы получили "
   ]
  },
  {
   "cell_type": "code",
   "execution_count": 33,
   "metadata": {},
   "outputs": [
    {
     "data": {
      "text/plain": [
       "'Accuracy: 0.59 (+/- 0.12)'"
      ]
     },
     "execution_count": 33,
     "metadata": {},
     "output_type": "execute_result"
    }
   ],
   "source": [
    "(\"Accuracy: %0.2f (+/- %0.2f)\" % (scores4.mean(), scores4.std() * 2))"
   ]
  },
  {
   "cell_type": "markdown",
   "metadata": {},
   "source": [
    "Точность, конечно, не впечатляет. Получается, мы не может по-человечески предскзать пол человека по его зарплате(без знания профессии разумеется), что, впрочем, совсем неудивительно."
   ]
  },
  {
   "cell_type": "markdown",
   "metadata": {},
   "source": [
    "### преобладание женщин или мужчин в профессии\n",
    "Попробую придумать более логичную закономерность: что если посчитать, зависит ли преобладаение одного из полов в профессии от имеющихся параметров, и как.\n",
    "Создаю выборки.\n",
    "На этот раз для разнообразия попробую взять несколько фич: общий доход, кол-во всех работников, разница доходов."
   ]
  },
  {
   "cell_type": "code",
   "execution_count": 39,
   "metadata": {},
   "outputs": [],
   "source": [
    "m_inc=list(dat['M_weekly'].astype(int)) # доход мужчин\n",
    "f_inc=list(dat['F_weekly'].astype(int)) # доход женщин\n",
    "inc_dif=[np.absolute(m_inc[i]-f_inc[i]) for i in range(len(m))] # разница доходов\n",
    "m_n=list(dat['M_workers'].astype(int))\n",
    "f_n=list(dat['F_workers'].astype(int))\n",
    "n_dif=[1*(m_n[i]>f_n[i]) for i in range(len(m_n))] #массив с 0 и 1, где 1, если мужчин в профессии больше женщин\n",
    "all_worc=list(dat['All_workers'].astype(int)) # кол-во всех работников\n",
    "all_inc=list(dat['All_weekly'].astype(int)) # общий доход\n",
    "tr_dat=pd.DataFrame(data={'inc_dif':inc_dif,'all_worc':all_worc,'all_inc':all_inc}) # формируем табличку \n"
   ]
  },
  {
   "cell_type": "code",
   "execution_count": 43,
   "metadata": {},
   "outputs": [],
   "source": [
    "target=np.array(n_dif)\n",
    "train=np.array(tr_dat.values)"
   ]
  },
  {
   "cell_type": "markdown",
   "metadata": {},
   "source": [
    "Давайте посмотрим, какая из наших фич имеет наибольшую предсказательную ценность.Буду отбирать фичи на случайном лесу, потому что так удобнее. Предварительно заранив ячейки с разбиением на тестовую и учебную выборку, нормализацией."
   ]
  },
  {
   "cell_type": "code",
   "execution_count": 46,
   "metadata": {},
   "outputs": [],
   "source": [
    "from matplotlib import pyplot\n"
   ]
  },
  {
   "cell_type": "code",
   "execution_count": 47,
   "metadata": {},
   "outputs": [
    {
     "name": "stdout",
     "output_type": "stream",
     "text": [
      "[0.36099121 0.32936757 0.30964121]\n"
     ]
    },
    {
     "data": {
      "image/png": "[encoded data removed]",
      "text/plain": [
       "<Figure size 432x288 with 1 Axes>"
      ]
     },
     "metadata": {
      "needs_background": "light"
     },
     "output_type": "display_data"
    }
   ],
   "source": [
    "model_rfc = RandomForestClassifier(n_estimators = 70)\n",
    "model_rfc.fit(tr_train, ta_train)\n",
    "my_features = list(('inc_dif','All_workers','All_weekly'))\n",
    "importance = model_rfc.feature_importances_\n",
    "print(importance)\n",
    "pyplot.bar([my_features[x] for x in range(len(importance))], importance)\n",
    "pyplot.show()"
   ]
  },
  {
   "cell_type": "markdown",
   "metadata": {},
   "source": [
    "И вновь я не удивлен резульатом, ведь мой самый **логичный**, самый прекрасный параметр, который я сам придумал, оказался наиболее значимым. Чтожб, используем именно его для дальнейших предсказаний(я пытался включить также All_workers, но результаты стали только хуже)"
   ]
  },
  {
   "cell_type": "markdown",
   "metadata": {},
   "source": [
    "Распределяем таргет с трейном заново, потом опять запускаем ячейки с train_test_split и нормализацией, а потом с кроссвалидацией"
   ]
  },
  {
   "cell_type": "code",
   "execution_count": 57,
   "metadata": {},
   "outputs": [],
   "source": [
    "target=np.array(n_dif)\n",
    "train=np.array(tr_dat['inc_dif']).reshape(-1, 1)"
   ]
  },
  {
   "cell_type": "code",
   "execution_count": 65,
   "metadata": {},
   "outputs": [
    {
     "data": {
      "image/png": "[encoded data removed]",
      "text/plain": [
       "<Figure size 432x288 with 1 Axes>"
      ]
     },
     "metadata": {
      "needs_background": "light"
     },
     "output_type": "display_data"
    }
   ],
   "source": [
    "ax3=sns.barplot(x=list(best_sc.keys()), y=list(best_sc.values()))\n",
    "for i in ax3.get_xticklabels():\n",
    "    i.set_rotation(90)\n"
   ]
  },
  {
   "cell_type": "markdown",
   "metadata": {},
   "source": [
    "На этот раз лучше всех оказался метод ближайших соседей. Посмотрим, какая там у него точность..."
   ]
  },
  {
   "cell_type": "code",
   "execution_count": 69,
   "metadata": {},
   "outputs": [
    {
     "data": {
      "text/plain": [
       "'Accuracy: 0.61 (+/- 0.10)'"
      ]
     },
     "execution_count": 69,
     "metadata": {},
     "output_type": "execute_result"
    }
   ],
   "source": [
    "(\"Accuracy: %0.2f (+/- %0.2f)\" % (scores2.mean(), scores2.std() * 2))"
   ]
  },
  {
   "cell_type": "markdown",
   "metadata": {},
   "source": [
    "В принципе, чуть менее ужасно, чем с предыдущей зависимостью, наша точность достигает аж 71... Да, это позорный резульат, но я не уверен, что из этих данных можно выжать больше. \n",
    "Для полученой модели можно было бы простроить roc кривую, или персижн-рекол, но для случая, когда используется одна фича - смысла немного . \n"
   ]
  },
  {
   "cell_type": "markdown",
   "metadata": {},
   "source": [
    "# сегодня я многое понял\n",
    "В США:\n",
    "* женщины зарабатывают меньше мужчин\n",
    "* глупо предсказывать пол человека по его зарплате, без знания профессии, сексисты\n",
    "* есть некоторая(хилая) зависимость между преобладанием одного из полов и разницей в оплате их труда"
   ]
  }
 ],
 "metadata": {
  "kernelspec": {
   "display_name": "Python 3",
   "language": "python",
   "name": "python3"
  },
  "language_info": {
   "codemirror_mode": {
    "name": "ipython",
    "version": 3
   },
   "file_extension": ".py",
   "mimetype": "text/x-python",
   "name": "python",
   "nbconvert_exporter": "python",
   "pygments_lexer": "ipython3",
   "version": "3.7.2"
  }
 },
 "nbformat": 4,
 "nbformat_minor": 2
}
